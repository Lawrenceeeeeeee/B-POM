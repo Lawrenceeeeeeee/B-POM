{
 "cells": [
  {
   "cell_type": "code",
   "execution_count": 1,
   "metadata": {},
   "outputs": [
    {
     "name": "stdout",
     "output_type": "stream",
     "text": [
      "当前工作目录: /root/autodl-tmp/BERT\n",
      "None\n"
     ]
    }
   ],
   "source": [
    "import sys\n",
    "import os\n",
    "\n",
    "print(\"当前工作目录:\", os.getcwd())\n",
    "print(os.environ.get(\"OPENAI_API_KEY\"))"
   ]
  },
  {
   "cell_type": "code",
   "execution_count": 2,
   "metadata": {},
   "outputs": [
    {
     "name": "stderr",
     "output_type": "stream",
     "text": [
      "Building prefix dict from the default dictionary ...\n",
      "Loading model from cache /tmp/jieba.cache\n",
      "Loading model cost 0.934 seconds.\n",
      "Prefix dict has been built successfully.\n",
      "findfont: Generic family 'sans-serif' not found because none of the following families were found: SimHei\n",
      "findfont: Generic family 'sans-serif' not found because none of the following families were found: SimHei\n",
      "findfont: Generic family 'sans-serif' not found because none of the following families were found: SimHei\n",
      "findfont: Generic family 'sans-serif' not found because none of the following families were found: SimHei\n",
      "findfont: Generic family 'sans-serif' not found because none of the following families were found: SimHei\n",
      "findfont: Generic family 'sans-serif' not found because none of the following families were found: SimHei\n",
      "findfont: Generic family 'sans-serif' not found because none of the following families were found: SimHei\n",
      "findfont: Generic family 'sans-serif' not found because none of the following families were found: SimHei\n",
      "/root/autodl-tmp/BERT/src/word_freq.py:58: UserWarning: Glyph 39057 (\\N{CJK UNIFIED IDEOGRAPH-9891}) missing from current font.\n",
      "  plt.savefig(plt_path)\n",
      "/root/autodl-tmp/BERT/src/word_freq.py:58: UserWarning: Glyph 27425 (\\N{CJK UNIFIED IDEOGRAPH-6B21}) missing from current font.\n",
      "  plt.savefig(plt_path)\n",
      "findfont: Generic family 'sans-serif' not found because none of the following families were found: SimHei\n",
      "findfont: Generic family 'sans-serif' not found because none of the following families were found: SimHei\n",
      "findfont: Generic family 'sans-serif' not found because none of the following families were found: SimHei\n",
      "/root/autodl-tmp/BERT/src/word_freq.py:58: UserWarning: Glyph 23043 (\\N{CJK UNIFIED IDEOGRAPH-5A03}) missing from current font.\n",
      "  plt.savefig(plt_path)\n",
      "/root/autodl-tmp/BERT/src/word_freq.py:58: UserWarning: Glyph 21704 (\\N{CJK UNIFIED IDEOGRAPH-54C8}) missing from current font.\n",
      "  plt.savefig(plt_path)\n",
      "findfont: Generic family 'sans-serif' not found because none of the following families were found: SimHei\n",
      "/root/autodl-tmp/BERT/src/word_freq.py:58: UserWarning: Glyph 21917 (\\N{CJK UNIFIED IDEOGRAPH-559D}) missing from current font.\n",
      "  plt.savefig(plt_path)\n",
      "findfont: Generic family 'sans-serif' not found because none of the following families were found: SimHei\n",
      "/root/autodl-tmp/BERT/src/word_freq.py:58: UserWarning: Glyph 32431 (\\N{CJK UNIFIED IDEOGRAPH-7EAF}) missing from current font.\n",
      "  plt.savefig(plt_path)\n",
      "/root/autodl-tmp/BERT/src/word_freq.py:58: UserWarning: Glyph 20928 (\\N{CJK UNIFIED IDEOGRAPH-51C0}) missing from current font.\n",
      "  plt.savefig(plt_path)\n",
      "/root/autodl-tmp/BERT/src/word_freq.py:58: UserWarning: Glyph 27700 (\\N{CJK UNIFIED IDEOGRAPH-6C34}) missing from current font.\n",
      "  plt.savefig(plt_path)\n",
      "findfont: Generic family 'sans-serif' not found because none of the following families were found: SimHei\n",
      "findfont: Generic family 'sans-serif' not found because none of the following families were found: SimHei\n",
      "/root/autodl-tmp/BERT/src/word_freq.py:58: UserWarning: Glyph 23454 (\\N{CJK UNIFIED IDEOGRAPH-5B9E}) missing from current font.\n",
      "  plt.savefig(plt_path)\n",
      "/root/autodl-tmp/BERT/src/word_freq.py:58: UserWarning: Glyph 39564 (\\N{CJK UNIFIED IDEOGRAPH-9A8C}) missing from current font.\n",
      "  plt.savefig(plt_path)\n",
      "/root/autodl-tmp/BERT/src/word_freq.py:58: UserWarning: Glyph 23460 (\\N{CJK UNIFIED IDEOGRAPH-5BA4}) missing from current font.\n",
      "  plt.savefig(plt_path)\n",
      "findfont: Generic family 'sans-serif' not found because none of the following families were found: SimHei\n",
      "findfont: Generic family 'sans-serif' not found because none of the following families were found: SimHei\n",
      "/root/autodl-tmp/BERT/src/word_freq.py:58: UserWarning: Glyph 23624 (\\N{CJK UNIFIED IDEOGRAPH-5C48}) missing from current font.\n",
      "  plt.savefig(plt_path)\n",
      "/root/autodl-tmp/BERT/src/word_freq.py:58: UserWarning: Glyph 33251 (\\N{CJK UNIFIED IDEOGRAPH-81E3}) missing from current font.\n",
      "  plt.savefig(plt_path)\n",
      "/root/autodl-tmp/BERT/src/word_freq.py:58: UserWarning: Glyph 27663 (\\N{CJK UNIFIED IDEOGRAPH-6C0F}) missing from current font.\n",
      "  plt.savefig(plt_path)\n",
      "findfont: Generic family 'sans-serif' not found because none of the following families were found: SimHei\n",
      "/root/autodl-tmp/BERT/src/word_freq.py:58: UserWarning: Glyph 35828 (\\N{CJK UNIFIED IDEOGRAPH-8BF4}) missing from current font.\n",
      "  plt.savefig(plt_path)\n",
      "findfont: Generic family 'sans-serif' not found because none of the following families were found: SimHei\n",
      "/root/autodl-tmp/BERT/src/word_freq.py:58: UserWarning: Glyph 25410 (\\N{CJK UNIFIED IDEOGRAPH-6342}) missing from current font.\n",
      "  plt.savefig(plt_path)\n",
      "/root/autodl-tmp/BERT/src/word_freq.py:58: UserWarning: Glyph 33080 (\\N{CJK UNIFIED IDEOGRAPH-8138}) missing from current font.\n",
      "  plt.savefig(plt_path)\n",
      "findfont: Generic family 'sans-serif' not found because none of the following families were found: SimHei\n",
      "/root/autodl-tmp/BERT/src/word_freq.py:58: UserWarning: Glyph 20080 (\\N{CJK UNIFIED IDEOGRAPH-4E70}) missing from current font.\n",
      "  plt.savefig(plt_path)\n",
      "findfont: Generic family 'sans-serif' not found because none of the following families were found: SimHei\n",
      "findfont: Generic family 'sans-serif' not found because none of the following families were found: SimHei\n",
      "findfont: Generic family 'sans-serif' not found because none of the following families were found: SimHei\n",
      "findfont: Generic family 'sans-serif' not found because none of the following families were found: SimHei\n",
      "findfont: Generic family 'sans-serif' not found because none of the following families were found: SimHei\n",
      "findfont: Generic family 'sans-serif' not found because none of the following families were found: SimHei\n",
      "findfont: Generic family 'sans-serif' not found because none of the following families were found: SimHei\n",
      "findfont: Generic family 'sans-serif' not found because none of the following families were found: SimHei\n",
      "findfont: Generic family 'sans-serif' not found because none of the following families were found: SimHei\n",
      "findfont: Generic family 'sans-serif' not found because none of the following families were found: SimHei\n",
      "findfont: Generic family 'sans-serif' not found because none of the following families were found: SimHei\n",
      "/root/autodl-tmp/BERT/src/word_freq.py:58: UserWarning: Glyph 35789 (\\N{CJK UNIFIED IDEOGRAPH-8BCD}) missing from current font.\n",
      "  plt.savefig(plt_path)\n",
      "/root/autodl-tmp/BERT/src/word_freq.py:58: UserWarning: Glyph 35821 (\\N{CJK UNIFIED IDEOGRAPH-8BED}) missing from current font.\n",
      "  plt.savefig(plt_path)\n",
      "findfont: Generic family 'sans-serif' not found because none of the following families were found: SimHei\n",
      "findfont: Generic family 'sans-serif' not found because none of the following families were found: SimHei\n",
      "findfont: Generic family 'sans-serif' not found because none of the following families were found: SimHei\n",
      "findfont: Generic family 'sans-serif' not found because none of the following families were found: SimHei\n",
      "findfont: Generic family 'sans-serif' not found because none of the following families were found: SimHei\n",
      "findfont: Generic family 'sans-serif' not found because none of the following families were found: SimHei\n",
      "findfont: Generic family 'sans-serif' not found because none of the following families were found: SimHei\n",
      "findfont: Generic family 'sans-serif' not found because none of the following families were found: SimHei\n",
      "findfont: Generic family 'sans-serif' not found because none of the following families were found: SimHei\n",
      "findfont: Generic family 'sans-serif' not found because none of the following families were found: SimHei\n",
      "findfont: Generic family 'sans-serif' not found because none of the following families were found: SimHei\n",
      "findfont: Generic family 'sans-serif' not found because none of the following families were found: SimHei\n",
      "findfont: Generic family 'sans-serif' not found because none of the following families were found: SimHei\n",
      "findfont: Generic family 'sans-serif' not found because none of the following families were found: SimHei\n",
      "findfont: Generic family 'sans-serif' not found because none of the following families were found: SimHei\n",
      "findfont: Generic family 'sans-serif' not found because none of the following families were found: SimHei\n",
      "findfont: Generic family 'sans-serif' not found because none of the following families were found: SimHei\n",
      "findfont: Generic family 'sans-serif' not found because none of the following families were found: SimHei\n",
      "findfont: Generic family 'sans-serif' not found because none of the following families were found: SimHei\n",
      "findfont: Generic family 'sans-serif' not found because none of the following families were found: SimHei\n",
      "findfont: Generic family 'sans-serif' not found because none of the following families were found: SimHei\n",
      "findfont: Generic family 'sans-serif' not found because none of the following families were found: SimHei\n",
      "findfont: Generic family 'sans-serif' not found because none of the following families were found: SimHei\n",
      "findfont: Generic family 'sans-serif' not found because none of the following families were found: SimHei\n",
      "findfont: Generic family 'sans-serif' not found because none of the following families were found: SimHei\n",
      "findfont: Generic family 'sans-serif' not found because none of the following families were found: SimHei\n",
      "findfont: Generic family 'sans-serif' not found because none of the following families were found: SimHei\n",
      "findfont: Generic family 'sans-serif' not found because none of the following families were found: SimHei\n"
     ]
    }
   ],
   "source": [
    "import bpom\n",
    "\n",
    "bvid = \"BV1uz421X7e1\"\n",
    "b = bpom.bpom(bvid)\n",
    "# print(b.comments)\n",
    "# print(bpom.correlation_score(\"这个视频讲的太好了！\"))"
   ]
  },
  {
   "cell_type": "code",
   "execution_count": 3,
   "metadata": {},
   "outputs": [
    {
     "data": {
      "text/plain": [
       "'data/frequency_plots/freq_plot.png'"
      ]
     },
     "execution_count": 3,
     "metadata": {},
     "output_type": "execute_result"
    }
   ],
   "source": [
    "b.freq_plot"
   ]
  },
  {
   "cell_type": "code",
   "execution_count": 1,
   "metadata": {},
   "outputs": [
    {
     "ename": "NameError",
     "evalue": "name 'b' is not defined",
     "output_type": "error",
     "traceback": [
      "\u001b[0;31m---------------------------------------------------------------------------\u001b[0m",
      "\u001b[0;31mNameError\u001b[0m                                 Traceback (most recent call last)",
      "Cell \u001b[0;32mIn[1], line 1\u001b[0m\n\u001b[0;32m----> 1\u001b[0m \u001b[43mb\u001b[49m\u001b[38;5;241m.\u001b[39mrun()\n",
      "\u001b[0;31mNameError\u001b[0m: name 'b' is not defined"
     ]
    }
   ],
   "source": [
    "b.run()"
   ]
  },
  {
   "cell_type": "code",
   "execution_count": 3,
   "metadata": {},
   "outputs": [
    {
     "ename": "NameError",
     "evalue": "name 'b' is not defined",
     "output_type": "error",
     "traceback": [
      "\u001b[0;31m---------------------------------------------------------------------------\u001b[0m",
      "\u001b[0;31mNameError\u001b[0m                                 Traceback (most recent call last)",
      "Cell \u001b[0;32mIn[3], line 1\u001b[0m\n\u001b[0;32m----> 1\u001b[0m \u001b[43mb\u001b[49m\u001b[38;5;241m.\u001b[39mcomments\u001b[38;5;241m.\u001b[39mto_csv(\u001b[38;5;124m\"\u001b[39m\u001b[38;5;124mcomments.csv\u001b[39m\u001b[38;5;124m\"\u001b[39m, index\u001b[38;5;241m=\u001b[39m\u001b[38;5;28;01mFalse\u001b[39;00m)\n",
      "\u001b[0;31mNameError\u001b[0m: name 'b' is not defined"
     ]
    }
   ],
   "source": [
    "b.comments.to_csv(\"comments.csv\", index=False)"
   ]
  },
  {
   "cell_type": "code",
   "execution_count": null,
   "metadata": {},
   "outputs": [],
   "source": [
    "import plotly.graph_objects as go\n",
    "import numpy as np\n",
    "\n",
    "# 创建 x, y 的网格\n",
    "x = np.linspace(-5, 5, 50)\n",
    "y = np.linspace(-5, 5, 50)\n",
    "x, y = np.meshgrid(x, y)\n",
    "\n",
    "# 生成一个高度值 z，这里用的是二维高斯函数\n",
    "z = np.sin(np.sqrt(x**2 + y**2))\n",
    "\n",
    "# 创建图形对象\n",
    "fig = go.Figure(data=[go.Surface(z=z, x=x, y=y)])\n",
    "\n",
    "# 更新布局，添加标题和调整视角\n",
    "fig.update_layout(title='3D Surface Plot', autosize=False,\n",
    "                  width=800, height=600,\n",
    "                  margin=dict(l=65, r=50, b=65, t=90))\n",
    "\n",
    "# 更新3D场景的设置\n",
    "fig.update_scenes(\n",
    "    aspectratio=dict(x=1, y=1, z=0.7),\n",
    "    camera_eye=dict(x=1.5, y=1.5, z=0.5)\n",
    ")\n",
    "\n",
    "# 显示图形\n",
    "fig.show()\n"
   ]
  },
  {
   "cell_type": "code",
   "execution_count": 10,
   "metadata": {},
   "outputs": [
    {
     "data": {
      "text/plain": [
       "True"
      ]
     },
     "execution_count": 10,
     "metadata": {},
     "output_type": "execute_result"
    }
   ],
   "source": [
    "os.path.exists('/root/autodl-tmp/BERT/data/fonts/STHeiti_Light.ttc')"
   ]
  },
  {
   "cell_type": "code",
   "execution_count": null,
   "metadata": {},
   "outputs": [],
   "source": []
  }
 ],
 "metadata": {
  "kernelspec": {
   "display_name": "Python 3 (ipykernel)",
   "language": "python",
   "name": "python3"
  },
  "language_info": {
   "codemirror_mode": {
    "name": "ipython",
    "version": 3
   },
   "file_extension": ".py",
   "mimetype": "text/x-python",
   "name": "python",
   "nbconvert_exporter": "python",
   "pygments_lexer": "ipython3",
   "version": "3.10.8"
  }
 },
 "nbformat": 4,
 "nbformat_minor": 4
}

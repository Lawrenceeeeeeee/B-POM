{
 "cells": [
  {
   "cell_type": "code",
   "execution_count": 1,
   "metadata": {},
   "outputs": [
    {
     "name": "stdout",
     "output_type": "stream",
     "text": [
      "当前工作目录: /root/autodl-tmp/BERT\n",
      "None\n"
     ]
    }
   ],
   "source": [
    "import sys\n",
    "import os\n",
    "\n",
    "print(\"当前工作目录:\", os.getcwd())\n",
    "print(os.environ.get(\"OPENAI_API_KEY\"))"
   ]
  },
  {
   "cell_type": "code",
   "execution_count": 2,
   "metadata": {},
   "outputs": [
    {
     "name": "stdout",
     "output_type": "stream",
     "text": [
      "获取全部评论\n",
      "/root/autodl-tmp/BERT\n"
     ]
    },
    {
     "name": "stderr",
     "output_type": "stream",
     "text": [
      "Building prefix dict from the default dictionary ...\n",
      "Loading model from cache /tmp/jieba.cache\n"
     ]
    },
    {
     "name": "stdout",
     "output_type": "stream",
     "text": [
      "/root/autodl-tmp/BERT\n",
      "词频\n",
      "/root/autodl-tmp/BERT\n"
     ]
    },
    {
     "name": "stderr",
     "output_type": "stream",
     "text": [
      "Loading model cost 0.957 seconds.\n",
      "Prefix dict has been built successfully.\n"
     ]
    },
    {
     "name": "stdout",
     "output_type": "stream",
     "text": [
      "/root/autodl-tmp/BERT\n",
      "wordcloud\n",
      "/root/autodl-tmp/BERT\n",
      "/root/autodl-tmp/BERT\n",
      "summary\n",
      "/root/autodl-tmp/BERT\n"
     ]
    },
    {
     "name": "stderr",
     "output_type": "stream",
     "text": [
      "--2024-04-21 21:29:53--  https://cn-hblf-ct-01-11.bilivideo.com/upgcxcode/63/11/1453571163/1453571163-1-30280.m4s?e=ig8euxZM2rNcNbdlhoNvNC8BqJIzNbfqXBvEqxTEto8BTrNvN0GvT90W5JZMkX_YN0MvXg8gNEV4NC8xNEV4N03eN0B5tZlqNxTEto8BTrNvNeZVuJ10Kj_g2UB02J0mN0B5tZlqNCNEto8BTrNvNC7MTX502C8f2jmMQJ6mqF2fka1mqx6gqj0eN0B599M=&uipk=5&nbs=1&deadline=1713713393&gen=playurlv2&os=bcache&oi=1780992212&trid=0000f6a9b4ba0e3a4b82919e932750cbd714u&mid=0&platform=pc&upsig=9a4be96c4b756db275d88a5ebd0668df&uparams=e,uipk,nbs,deadline,gen,os,oi,trid,mid,platform&cdnid=63211&bvc=vod&nettype=0&orderid=0,3&buvid=&build=0&f=u_0_0&agrr=0&bw=21965&logo=80000000\n",
      "Resolving cn-hblf-ct-01-11.bilivideo.com (cn-hblf-ct-01-11.bilivideo.com)... 111.225.214.10, 240e:b1:9801:206:10::20\n",
      "Connecting to cn-hblf-ct-01-11.bilivideo.com (cn-hblf-ct-01-11.bilivideo.com)|111.225.214.10|:443... connected.\n",
      "HTTP request sent, awaiting response... 200 OK\n",
      "Length: 2262419 (2.2M) [video/mp4]\n",
      "Saving to: ‘temp/BV1uz421X7e1.m4a’\n",
      "\n",
      "     0K .......... .......... .......... .......... ..........  2% 3.82M 1s\n",
      "    50K .......... .......... .......... .......... ..........  4% 7.27M 0s\n",
      "   100K .......... .......... .......... .......... ..........  6% 12.9M 0s\n",
      "   150K .......... .......... .......... .......... ..........  9% 17.3M 0s\n",
      "   200K .......... .......... .......... .......... .......... 11% 24.4M 0s\n",
      "   250K .......... .......... .......... .......... .......... 13% 18.0M 0s\n",
      "   300K .......... .......... .......... .......... .......... 15% 71.7M 0s\n",
      "   350K .......... .......... .......... .......... .......... 18% 3.70M 0s\n",
      "   400K .......... .......... .......... .......... .......... 20% 53.4M 0s\n",
      "   450K .......... .......... .......... .......... .......... 22% 62.0M 0s\n",
      "   500K .......... .......... .......... .......... .......... 24% 92.7M 0s\n",
      "   550K .......... .......... .......... .......... .......... 27% 68.7M 0s\n",
      "   600K .......... .......... .......... .......... .......... 29% 84.8M 0s\n",
      "   650K .......... .......... .......... .......... .......... 31% 36.4M 0s\n",
      "   700K .......... .......... .......... .......... .......... 33% 86.0M 0s\n",
      "   750K .......... .......... .......... .......... .......... 36%  116M 0s\n",
      "   800K .......... .......... .......... .......... .......... 38%  173M 0s\n",
      "   850K .......... .......... .......... .......... .......... 40%  443M 0s\n",
      "   900K .......... .......... .......... .......... .......... 42%  445M 0s\n",
      "   950K .......... .......... .......... .......... .......... 45%  444M 0s\n",
      "  1000K .......... .......... .......... .......... .......... 47%  532M 0s\n",
      "  1050K .......... .......... .......... .......... .......... 49%  484M 0s\n",
      "  1100K .......... .......... .......... .......... .......... 52%  111M 0s\n",
      "  1150K .......... .......... .......... .......... .......... 54% 41.3M 0s\n",
      "  1200K .......... .......... .......... .......... .......... 56% 60.5M 0s\n",
      "  1250K .......... .......... .......... .......... .......... 58% 14.8M 0s\n",
      "  1300K .......... .......... .......... .......... .......... 61% 4.74M 0s\n",
      "  1350K .......... .......... .......... .......... .......... 63%  308M 0s\n",
      "  1400K .......... .......... .......... .......... .......... 65%  343M 0s\n",
      "  1450K .......... .......... .......... .......... .......... 67%  347M 0s\n",
      "  1500K .......... .......... .......... .......... .......... 70%  360M 0s\n",
      "  1550K .......... .......... .......... .......... .......... 72%  269M 0s\n",
      "  1600K .......... .......... .......... .......... .......... 74%  450M 0s\n",
      "  1650K .......... .......... .......... .......... .......... 76%  504M 0s\n",
      "  1700K .......... .......... .......... .......... .......... 79%  507M 0s\n",
      "  1750K .......... .......... .......... .......... .......... 81%  473M 0s\n",
      "  1800K .......... .......... .......... .......... .......... 83%  472M 0s\n",
      "  1850K .......... .......... .......... .......... .......... 85%  511M 0s\n",
      "  1900K .......... .......... .......... .......... .......... 88%  493M 0s\n",
      "  1950K .......... .......... .......... .......... .......... 90%  405M 0s\n",
      "  2000K .......... .......... .......... .......... .......... 92%  487M 0s\n",
      "  2050K .......... .......... .......... .......... .......... 95% 7.79M 0s\n",
      "  2100K .......... .......... .......... .......... .......... 97%  183M 0s\n",
      "  2150K .......... .......... .......... .......... .......... 99%  250M 0s\n",
      "  2200K .........                                             100%  257M=0.08s\n",
      "\n",
      "2024-04-21 21:29:53 (28.5 MB/s) - ‘temp/BV1uz421X7e1.m4a’ saved [2262419/2262419]\n",
      "\n",
      "ffmpeg version 4.4.2-0ubuntu0.22.04.1 Copyright (c) 2000-2021 the FFmpeg developers\n",
      "  built with gcc 11 (Ubuntu 11.2.0-19ubuntu1)\n",
      "  configuration: --prefix=/usr --extra-version=0ubuntu0.22.04.1 --toolchain=hardened --libdir=/usr/lib/x86_64-linux-gnu --incdir=/usr/include/x86_64-linux-gnu --arch=amd64 --enable-gpl --disable-stripping --enable-gnutls --enable-ladspa --enable-libaom --enable-libass --enable-libbluray --enable-libbs2b --enable-libcaca --enable-libcdio --enable-libcodec2 --enable-libdav1d --enable-libflite --enable-libfontconfig --enable-libfreetype --enable-libfribidi --enable-libgme --enable-libgsm --enable-libjack --enable-libmp3lame --enable-libmysofa --enable-libopenjpeg --enable-libopenmpt --enable-libopus --enable-libpulse --enable-librabbitmq --enable-librubberband --enable-libshine --enable-libsnappy --enable-libsoxr --enable-libspeex --enable-libsrt --enable-libssh --enable-libtheora --enable-libtwolame --enable-libvidstab --enable-libvorbis --enable-libvpx --enable-libwebp --enable-libx265 --enable-libxml2 --enable-libxvid --enable-libzimg --enable-libzmq --enable-libzvbi --enable-lv2 --enable-omx --enable-openal --enable-opencl --enable-opengl --enable-sdl2 --enable-pocketsphinx --enable-librsvg --enable-libmfx --enable-libdc1394 --enable-libdrm --enable-libiec61883 --enable-chromaprint --enable-frei0r --enable-libx264 --enable-shared\n",
      "  libavutil      56. 70.100 / 56. 70.100\n",
      "  libavcodec     58.134.100 / 58.134.100\n",
      "  libavformat    58. 76.100 / 58. 76.100\n",
      "  libavdevice    58. 13.100 / 58. 13.100\n",
      "  libavfilter     7.110.100 /  7.110.100\n",
      "  libswscale      5.  9.100 /  5.  9.100\n",
      "  libswresample   3.  9.100 /  3.  9.100\n",
      "  libpostproc    55.  9.100 / 55.  9.100\n",
      "Input #0, mov,mp4,m4a,3gp,3g2,mj2, from './temp/BV1uz421X7e1.m4a':\n",
      "  Metadata:\n",
      "    major_brand     : iso5\n",
      "    minor_version   : 1\n",
      "    compatible_brands: avc1iso5dsmsmsixdash\n",
      "    encoder         : Lavf58.29.100\n",
      "    description     : Packed by Bilibili XCoder v2.0.2\n",
      "  Duration: 00:01:43.13, start: 0.000000, bitrate: 175 kb/s\n",
      "  Stream #0:0(und): Audio: aac (LC) (mp4a / 0x6134706D), 48000 Hz, stereo, fltp, 9 kb/s (default)\n",
      "    Metadata:\n",
      "      handler_name    : SoundHandler\n",
      "      vendor_id       : [0][0][0][0]\n",
      "Stream mapping:\n",
      "  Stream #0:0 -> #0:0 (aac (native) -> pcm_s16le (native))\n",
      "Press [q] to stop, [?] for help\n",
      "Output #0, wav, to './temp/BV1uz421X7e1.wav':\n",
      "  Metadata:\n",
      "    major_brand     : iso5\n",
      "    minor_version   : 1\n",
      "    compatible_brands: avc1iso5dsmsmsixdash\n",
      "    description     : Packed by Bilibili XCoder v2.0.2\n",
      "    ISFT            : Lavf58.76.100\n",
      "  Stream #0:0(und): Audio: pcm_s16le ([1][0][0][0] / 0x0001), 16000 Hz, stereo, s16, 512 kb/s (default)\n",
      "    Metadata:\n",
      "      handler_name    : SoundHandler\n",
      "      vendor_id       : [0][0][0][0]\n",
      "      encoder         : Lavc58.134.100 pcm_s16le\n",
      "size=    6445kB time=00:01:43.12 bitrate= 512.0kbits/s speed= 530x    \n",
      "video:0kB audio:6445kB subtitle:0kB other streams:0kB global headers:0kB muxing overhead: 0.001182%\n",
      "error: input file not found 'true'\n",
      "whisper_init_from_file_with_params_no_state: loading model from '../whisper.cpp/models/ggml-large-v3.bin'\n",
      "whisper_model_load: loading model\n",
      "whisper_model_load: n_vocab       = 51866\n",
      "whisper_model_load: n_audio_ctx   = 1500\n",
      "whisper_model_load: n_audio_state = 1280\n",
      "whisper_model_load: n_audio_head  = 20\n",
      "whisper_model_load: n_audio_layer = 32\n",
      "whisper_model_load: n_text_ctx    = 448\n",
      "whisper_model_load: n_text_state  = 1280\n",
      "whisper_model_load: n_text_head   = 20\n",
      "whisper_model_load: n_text_layer  = 32\n",
      "whisper_model_load: n_mels        = 128\n",
      "whisper_model_load: ftype         = 1\n",
      "whisper_model_load: qntvr         = 0\n",
      "whisper_model_load: type          = 5 (large v3)\n",
      "whisper_model_load: adding 1609 extra tokens\n",
      "whisper_model_load: n_langs       = 100\n",
      "whisper_backend_init: using CUDA backend\n",
      "ggml_cuda_init: GGML_CUDA_FORCE_MMQ:   no\n",
      "ggml_cuda_init: CUDA_USE_TENSOR_CORES: yes\n",
      "ggml_cuda_init: found 1 CUDA devices:\n",
      "  Device 0: NVIDIA GeForce RTX 4090, compute capability 8.9, VMM: yes\n",
      "whisper_model_load:    CUDA0 total size =  3094.36 MB\n",
      "whisper_model_load: model size    = 3094.36 MB\n",
      "whisper_backend_init: using CUDA backend\n",
      "whisper_init_state: kv self size  =  220.20 MB\n",
      "whisper_init_state: kv cross size =  245.76 MB\n",
      "whisper_init_state: compute buffer (conv)   =   36.26 MB\n",
      "whisper_init_state: compute buffer (encode) =  926.66 MB\n",
      "whisper_init_state: compute buffer (cross)  =    9.38 MB\n",
      "whisper_init_state: compute buffer (decode) =  209.26 MB\n",
      "\n",
      "system_info: n_threads = 4 / 128 | AVX = 1 | AVX2 = 1 | AVX512 = 1 | FMA = 1 | NEON = 0 | ARM_FMA = 0 | METAL = 0 | F16C = 1 | FP16_VA = 0 | WASM_SIMD = 0 | BLAS = 1 | SSE3 = 1 | SSSE3 = 1 | VSX = 0 | CUDA = 1 | COREML = 0 | OPENVINO = 0\n",
      "\n",
      "main: processing 'temp/BV1uz421X7e1.wav' (1650005 samples, 103.1 sec), 4 threads, 1 processors, 5 beams + best of 5, lang = auto, task = transcribe, timestamps = 1 ...\n",
      "\n",
      "whisper_full_with_state: auto-detected language: zh (p = 0.993285)\n"
     ]
    },
    {
     "name": "stdout",
     "output_type": "stream",
     "text": [
      "\n",
      "[00:00:00.060 --> 00:00:03.200]  两块一瓶的娃哈哈竟然是实验室必备的?\n",
      "[00:00:03.200 --> 00:00:04.400]  那还真是\n",
      "[00:00:04.400 --> 00:00:05.800]  实验室里摆的是娃哈哈\n",
      "[00:00:05.800 --> 00:00:07.200]  读文里写的是娃哈哈\n",
      "[00:00:07.200 --> 00:00:09.200]  见过实验项目最多的人是娃哈哈\n",
      "[00:00:09.200 --> 00:00:11.000]  呃 许王力宏\n",
      "[00:00:11.000 --> 00:00:13.000]  为啥都用娃哈哈做科研呢?\n",
      "[00:00:13.000 --> 00:00:14.000]  一个字\n",
      "[00:00:14.000 --> 00:00:15.000]  蠢\n",
      "[00:00:15.000 --> 00:00:17.200]  相信大家搞科研都离不开蜀迷\n",
      "[00:00:17.200 --> 00:00:18.600]  洗杯子配溶液打测谱\n",
      "[00:00:18.600 --> 00:00:20.500]  水里有杂质这实验就没法做\n",
      "[00:00:20.500 --> 00:00:22.300]  拿出家中常备的电导率测试仪\n",
      "[00:00:22.300 --> 00:00:23.800]  它可以测出溶液中的电导率\n",
      "[00:00:23.800 --> 00:00:26.500]  视数越低说明水中可以导尿的离子越少\n",
      "[00:00:26.500 --> 00:00:27.900]  水就越少\n",
      "[00:00:27.900 --> 00:00:30.700]  接一杯北京的自然水一测330\n",
      "[00:00:30.700 --> 00:00:33.700]  接一杯办公室的饮用水70\n",
      "[00:00:33.700 --> 00:00:36.500]  电导率10以下就能够测出饮用纯净水\n",
      "[00:00:36.500 --> 00:00:41.500]  而这瓶娃哈哈测出的只有1.4\n",
      "[00:00:41.500 --> 00:00:43.500]  第二个字\n",
      "[00:00:43.500 --> 00:00:44.700]  性价比较\n",
      "[00:00:44.700 --> 00:00:46.700]  你以为的纯水都不就H2O吗\n",
      "[00:00:46.700 --> 00:00:49.100]  一氧化二氢 水乌一烧就完事了\n",
      "[00:00:49.100 --> 00:00:50.000]  但其实\n",
      "[00:00:50.000 --> 00:00:52.400]  获得一瓶高纯度的水很难\n",
      "[00:00:52.400 --> 00:00:54.700]  我读国的时候做的就是这个水瓦\n",
      "[00:00:54.700 --> 00:00:56.300]  但是我们实验室不用娃哈哈\n",
      "[00:00:56.300 --> 00:00:58.100]  我们用的是纯水机\n",
      "[00:00:58.100 --> 00:01:01.100]  水进去先吸附过滤去除它的固体颗粒\n",
      "[00:01:01.100 --> 00:01:04.100]  再经过反射的浮温去除大部分溶解性的盐\n",
      "[00:01:04.100 --> 00:01:05.300]  还有一些微生物\n",
      "[00:01:05.300 --> 00:01:08.300]  最后经过一个离子交换数值就得到了超纯水\n",
      "[00:01:08.300 --> 00:01:10.100]  但是你猜这么一套东西\n",
      "[00:01:10.100 --> 00:01:13.100]  一台机器要多少钱\n",
      "[00:01:13.100 --> 00:01:14.300]  20万\n",
      "[00:01:14.300 --> 00:01:15.900]  如果实验室没有纯水机\n",
      "[00:01:15.900 --> 00:01:17.700]  C的话这些大牌子的高纯水\n",
      "[00:01:17.700 --> 00:01:19.700]  一升起来要1000块\n",
      "[00:01:19.700 --> 00:01:22.900]  一般课题组那是砸锅卖铁也用不起\n",
      "[00:01:22.900 --> 00:01:24.700]  我用了三年高纯水\n",
      "[00:01:24.700 --> 00:01:26.100]  净费用\n",
      "[00:01:26.100 --> 00:01:27.700]  实验室用不完\n",
      "[00:01:27.700 --> 00:01:29.300]  论文还没水纯\n",
      "[00:01:29.300 --> 00:01:30.900]  这娃哈哈纯不纯\n",
      "[00:01:30.900 --> 00:01:35.700]  我们这些搞实验的还不知道\n",
      "[00:01:35.700 --> 00:01:37.100]  这娃哈哈纯不纯\n",
      "[00:01:37.100 --> 00:01:38.900]  比起高纯水是没那么纯\n",
      "[00:01:38.900 --> 00:01:40.700]  但确实能应对一些科研实习\n",
      "[00:01:40.700 --> 00:01:41.700]  而且两块一瓶\n",
      "[00:01:41.700 --> 00:01:43.100]  你要啥自己磕\n",
      "\n"
     ]
    },
    {
     "name": "stderr",
     "output_type": "stream",
     "text": [
      "output_lrc: saving output to 'temp/BV1uz421X7e1.lrc'\n",
      "\n",
      "whisper_print_timings:     load time =  1147.00 ms\n",
      "whisper_print_timings:     fallbacks =   0 p /   0 h\n",
      "whisper_print_timings:      mel time =   154.77 ms\n",
      "whisper_print_timings:   sample time =  2169.44 ms /  3449 runs (    0.63 ms per run)\n",
      "whisper_print_timings:   encode time =   468.04 ms /     5 runs (   93.61 ms per run)\n",
      "whisper_print_timings:   decode time =    23.16 ms /     2 runs (   11.58 ms per run)\n",
      "whisper_print_timings:   batchd time =  5513.09 ms /  3433 runs (    1.61 ms per run)\n",
      "whisper_print_timings:   prompt time =   107.38 ms /   714 runs (    0.15 ms per run)\n",
      "whisper_print_timings:    total time =  9609.12 ms\n"
     ]
    },
    {
     "name": "stdout",
     "output_type": "stream",
     "text": [
      "/root/autodl-tmp/BERT\n"
     ]
    }
   ],
   "source": [
    "import bpom\n",
    "\n",
    "bvid = \"BV1uz421X7e1\"\n",
    "b = bpom.bpom(bvid)\n",
    "# print(b.comments)\n",
    "# print(bpom.correlation_score(\"这个视频讲的太好了！\"))"
   ]
  },
  {
   "cell_type": "code",
   "execution_count": 3,
   "metadata": {},
   "outputs": [
    {
     "data": {
      "text/plain": [
       "{'summary': '这段视频讨论了实验室在使用高纯度水时的成本效益，提到娃哈哈矿泉水因其高性价比与合适的纯净度，成为一些实验科研的备选项。',\n",
       " 'parts': ['视频介绍了实验室使用娃哈哈矿泉水的原因，突出其成本效益。',\n",
       "  '对比了家用纯水机和实验室纯水机处理水的过程和成本。',\n",
       "  '讨论了高纯水的高昂价格与娃哈哈水的实用性。']}"
      ]
     },
     "execution_count": 3,
     "metadata": {},
     "output_type": "execute_result"
    }
   ],
   "source": [
    "b.summary"
   ]
  },
  {
   "cell_type": "code",
   "execution_count": 4,
   "metadata": {},
   "outputs": [
    {
     "name": "stdout",
     "output_type": "stream",
     "text": [
      "Loading model from models/Bert-updated-manyi...\n",
      "Loading model from models/Bert-updated-qingxu...\n",
      "Loading model from models/Bert-updated-taolun...\n",
      "Loading model from models/Bert-updated-tiwen...\n",
      "Loading model from models/Bert-updated-wangeng...\n",
      "            oid   timestamp          rpid        uid       uname  \\\n",
      "0    1351097913  1713349805  217297155376   41023166       冷酷的画家   \n",
      "659  1351097913  1709190213  210355397984   17619068    空白不是一个人_   \n",
      "847  1351097913  1709133032  210283536288     270900  HCのNeptune   \n",
      "120  1351097913  1710000232  211692594192  524407103       高远花梨_   \n",
      "401  1351097913  1709278098  210493886240  391196989       大绿豆本蜓   \n",
      "\n",
      "                                          content likes replies  \\\n",
      "0                              去离子水淘宝能买到，好像两百多20升     0       0   \n",
      "659                              好奇娃哈哈工厂怎么做到的[笑哭]     0       0   \n",
      "847                   所以有没有人能解释一下，屈臣氏蒸馏水为什么还有保质期？     1       2   \n",
      "120  我们生物老师以前是实验室做实验的 他说市面上的娃哈哈都被实验室截胡了[doge][笑哭]     0       0   \n",
      "401                                  屈臣氏比哇哈哈逼格高一些     0       0   \n",
      "\n",
      "                                 content_cleaned  \\\n",
      "0                             去离子水淘宝能买到，好像两百多20升   \n",
      "659                             好奇娃哈哈工厂怎么做到的[笑哭]   \n",
      "847                  所以有没有人能解释一下，屈臣氏蒸馏水为什么还有保质期？   \n",
      "120  我们生物老师以前是实验室做实验的他说市面上的娃哈哈都被实验室截胡了[doge][笑哭]   \n",
      "401                                 屈臣氏比哇哈哈逼格高一些   \n",
      "\n",
      "                                                 words  \\\n",
      "0               [去离子水, 淘宝, 能, 买, 到, ，, 好像, 两百多, 20, 升]   \n",
      "659               [好奇, 娃哈哈, 工厂, 怎么, 做到, 的, [, 笑, 哭, ]]   \n",
      "847  [所以, 有没有, 人能, 解释一下, ，, 屈臣氏, 蒸馏水, 为什么, 还有, 保质期, ？]   \n",
      "120  [我们, 生物, 老师, 以前, 是, 实验室, 做, 实验, 的, 他, 说, 市面上, ...   \n",
      "401                           [屈臣氏, 比哇, 哈哈, 逼格, 高, 一些]   \n",
      "\n",
      "                                        words_filtered  correlation_score  \\\n",
      "0                        [去离子水, 淘宝, 买, 好像, 两百多, 20, 升]           0.427467   \n",
      "659                            [好奇, 娃哈哈, 工厂, 做到, 笑, 哭]           0.404640   \n",
      "847                     [有没有, 人能, 解释一下, 屈臣氏, 蒸馏水, 保质期]           0.458644   \n",
      "120  [生物, 老师, 以前, 实验室, 做, 实验, 说, 市面上, 娃哈哈, 实验室, 截胡,...           0.444200   \n",
      "401                                   [屈臣氏, 比哇, 逼格, 高]           0.447016   \n",
      "\n",
      "     manyi_score  qingxu_score  taolun_score  tiwen_score  wangeng_score  \n",
      "0              2             2             0            0              0  \n",
      "659            2             3             0            1              0  \n",
      "847            2             2             0            1              0  \n",
      "120            2             2             0            0              0  \n",
      "401            2             3             0            0              0  \n"
     ]
    }
   ],
   "source": [
    "b.run()"
   ]
  },
  {
   "cell_type": "code",
   "execution_count": 5,
   "metadata": {},
   "outputs": [],
   "source": [
    "b.comments.to_csv(\"comments.csv\", index=False)"
   ]
  },
  {
   "cell_type": "code",
   "execution_count": null,
   "metadata": {},
   "outputs": [],
   "source": [
    "import plotly.graph_objects as go\n",
    "import numpy as np\n",
    "\n",
    "# 创建 x, y 的网格\n",
    "x = np.linspace(-5, 5, 50)\n",
    "y = np.linspace(-5, 5, 50)\n",
    "x, y = np.meshgrid(x, y)\n",
    "\n",
    "# 生成一个高度值 z，这里用的是二维高斯函数\n",
    "z = np.sin(np.sqrt(x**2 + y**2))\n",
    "\n",
    "# 创建图形对象\n",
    "fig = go.Figure(data=[go.Surface(z=z, x=x, y=y)])\n",
    "\n",
    "# 更新布局，添加标题和调整视角\n",
    "fig.update_layout(title='3D Surface Plot', autosize=False,\n",
    "                  width=800, height=600,\n",
    "                  margin=dict(l=65, r=50, b=65, t=90))\n",
    "\n",
    "# 更新3D场景的设置\n",
    "fig.update_scenes(\n",
    "    aspectratio=dict(x=1, y=1, z=0.7),\n",
    "    camera_eye=dict(x=1.5, y=1.5, z=0.5)\n",
    ")\n",
    "\n",
    "# 显示图形\n",
    "fig.show()\n"
   ]
  },
  {
   "cell_type": "code",
   "execution_count": 7,
   "metadata": {},
   "outputs": [
    {
     "data": {
      "text/plain": [
       "True"
      ]
     },
     "execution_count": 7,
     "metadata": {},
     "output_type": "execute_result"
    }
   ],
   "source": [
    "os.path.exists('../data/resources/cn_stopwords.txt')"
   ]
  },
  {
   "cell_type": "code",
   "execution_count": 5,
   "metadata": {},
   "outputs": [],
   "source": [
    "from openai import OpenAI\n",
    "from dotenv import load_dotenv\n",
    "import os\n",
    "\n",
    "load_dotenv()\n",
    "\n",
    "client = OpenAI(api_key=\"sk-WwgPjCV29QlOqtRBFFSaEAgUa0nWv2bFZ9Nb4iR2HCAVgH2W\", base_url=\"https://api.chatanywhere.tech/v1\")"
   ]
  },
  {
   "cell_type": "code",
   "execution_count": 6,
   "metadata": {},
   "outputs": [
    {
     "data": {
      "text/plain": [
       "'你好！有什么可以帮助你的吗？'"
      ]
     },
     "execution_count": 6,
     "metadata": {},
     "output_type": "execute_result"
    }
   ],
   "source": [
    "response = client.chat.completions.create(\n",
    "    model=\"gpt-4-turbo\",\n",
    "    messages=[\n",
    "        {\"role\": \"system\", \"content\": \"你是一个ai助手\"},\n",
    "        {\"role\": \"user\", \"content\": \"你好\"},\n",
    "    ]\n",
    ")\n",
    "res = response.choices[0].message.content\n",
    "res"
   ]
  },
  {
   "cell_type": "code",
   "execution_count": null,
   "metadata": {},
   "outputs": [],
   "source": []
  }
 ],
 "metadata": {
  "kernelspec": {
   "display_name": "Python 3 (ipykernel)",
   "language": "python",
   "name": "python3"
  },
  "language_info": {
   "codemirror_mode": {
    "name": "ipython",
    "version": 3
   },
   "file_extension": ".py",
   "mimetype": "text/x-python",
   "name": "python",
   "nbconvert_exporter": "python",
   "pygments_lexer": "ipython3",
   "version": "3.10.8"
  }
 },
 "nbformat": 4,
 "nbformat_minor": 4
}
